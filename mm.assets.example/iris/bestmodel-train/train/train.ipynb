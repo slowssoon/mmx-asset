{
 "cells": [
  {
   "cell_type": "code",
   "execution_count": 4,
   "metadata": {},
   "outputs": [],
   "source": [
    "import os\n",
    "os.environ['target'] = 'target-a'"
   ]
  },
  {
   "cell_type": "code",
   "execution_count": 9,
   "metadata": {},
   "outputs": [
    {
     "name": "stdout",
     "output_type": "stream",
     "text": [
      "accuracy score :0.900000\n",
      "model saved, path :/mm/project/model/iris_DecisionTreeClassifier.pkl\n",
      "     target                                               path  score  args\n",
      "0  target-a  /mm/project/model/iris_DecisionTreeClassifier.pkl    0.9     1\n",
      "     target                                               path  score args\n",
      "0  target-a  /mm/project/model/iris_DecisionTreeClassifier.pkl    0.9    1\n"
     ]
    }
   ],
   "source": [
    "from sklearn.linear_model import LogisticRegression\n",
    "from sklearn.tree import DecisionTreeClassifier\n",
    "import pandas as pd\n",
    "import os, sys\n",
    "\n",
    "MM_MODEL = '/mm/project/model/'\n",
    "MM_DATA ='/mm/project/data_in/'\n",
    "MM_INFO = '/mm/step/train.csv'\n",
    "\n",
    "target = os.environ['target']\n",
    "args = sys.argv\n",
    "#algo = args[1]\n",
    "algo = 'DecisionTreeClassifier'\n",
    "\n",
    "def create_df (col_list = []) : \n",
    "    df = pd.DataFrame(columns = col_list)\n",
    "    return df\n",
    "\n",
    "if not os.path.exists(MM_MODEL):\n",
    "    os.mkdir(MM_MODEL)\n",
    "    \n",
    "X_train = pd.read_csv(MM_DATA + 'X_train.csv')\n",
    "X_test = pd.read_csv(MM_DATA + 'X_test.csv')\n",
    "y_train = pd.read_csv(MM_DATA + 'y_train.csv')\n",
    "y_test = pd.read_csv(MM_DATA + 'y_test.csv')\n",
    "\n",
    "train_col = ['target', 'path', 'score', 'args']\n",
    "train_df = create_df(train_col)\n",
    "\n",
    "import pickle\n",
    "\n",
    "MODEL_NAME = 'iris_'  +algo+ '.pkl'\n",
    "model= eval(algo + '()')\n",
    "model.fit(X_train, y_train)\n",
    "\n",
    "from sklearn.metrics import accuracy_score\n",
    "y_predict = model.predict(X_test)\n",
    "\n",
    "acc_score = accuracy_score(y_test, y_predict)\n",
    "\n",
    "print(\"accuracy score :%f\" % acc_score)\n",
    "with open(os.path.join(MM_MODEL, MODEL_NAME), 'wb') as f:\n",
    "    pickle.dump(model, f)\n",
    "\n",
    "print(\"model saved, path :%s\" % os.path.join(MM_MODEL + MODEL_NAME))\n",
    "\n",
    "a = pd.DataFrame(data=[[ target, MM_MODEL+MODEL_NAME, acc_score, 1]],\n",
    "             columns=train_col)\n",
    "print(a)\n",
    "\n",
    "train_df = train_df.append(a).reset_index(drop=True)\n",
    "    \n",
    "print(train_df)\n",
    "train_df.to_csv(MM_INFO, index = False)"
   ]
  },
  {
   "cell_type": "code",
   "execution_count": 10,
   "metadata": {},
   "outputs": [
    {
     "name": "stdout",
     "output_type": "stream",
     "text": [
      "iris_DecisionTreeClassifier.pkl  logistic_model.pkl\n"
     ]
    },
    {
     "data": {
      "text/html": [
       "<div>\n",
       "<style scoped>\n",
       "    .dataframe tbody tr th:only-of-type {\n",
       "        vertical-align: middle;\n",
       "    }\n",
       "\n",
       "    .dataframe tbody tr th {\n",
       "        vertical-align: top;\n",
       "    }\n",
       "\n",
       "    .dataframe thead th {\n",
       "        text-align: right;\n",
       "    }\n",
       "</style>\n",
       "<table border=\"1\" class=\"dataframe\">\n",
       "  <thead>\n",
       "    <tr style=\"text-align: right;\">\n",
       "      <th></th>\n",
       "      <th>target</th>\n",
       "      <th>path</th>\n",
       "      <th>score</th>\n",
       "      <th>args</th>\n",
       "    </tr>\n",
       "  </thead>\n",
       "  <tbody>\n",
       "    <tr>\n",
       "      <th>0</th>\n",
       "      <td>target-a</td>\n",
       "      <td>/mm/project/model/iris_DecisionTreeClassifier.pkl</td>\n",
       "      <td>0.9</td>\n",
       "      <td>1</td>\n",
       "    </tr>\n",
       "  </tbody>\n",
       "</table>\n",
       "</div>"
      ],
      "text/plain": [
       "     target                                               path  score  args\n",
       "0  target-a  /mm/project/model/iris_DecisionTreeClassifier.pkl    0.9     1"
      ]
     },
     "execution_count": 10,
     "metadata": {},
     "output_type": "execute_result"
    }
   ],
   "source": [
    "!ls /mm/project/model\n",
    "pd.read_csv('/mm/step/train.csv')"
   ]
  }
 ],
 "metadata": {
  "kernelspec": {
   "display_name": "Python 3",
   "language": "python",
   "name": "python3"
  },
  "language_info": {
   "codemirror_mode": {
    "name": "ipython",
    "version": 3
   },
   "file_extension": ".py",
   "mimetype": "text/x-python",
   "name": "python",
   "nbconvert_exporter": "python",
   "pygments_lexer": "ipython3",
   "version": "3.7.1"
  }
 },
 "nbformat": 4,
 "nbformat_minor": 2
}

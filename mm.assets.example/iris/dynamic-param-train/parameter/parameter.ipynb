{
 "cells": [
  {
   "cell_type": "code",
   "execution_count": 1,
   "metadata": {},
   "outputs": [
    {
     "name": "stdout",
     "output_type": "stream",
     "text": [
      "train dataset dimension : (119, 4)\n",
      "test dataset dimension : (30, 4)\n",
      "train target dimension : (119, 1)\n",
      "test target dimension : (30, 1)\n",
      "0\n",
      "jovyan\n",
      "b'jovyan\\n'\n",
      "total 24\n",
      "drwxr-xr-x  2 jovyan jovyan 4096 Mar 18 17:02 .\n",
      "drwxr-xr-x 10 jovyan jovyan 4096 Mar 18 17:00 ..\n",
      "-rw-r--r--  1 jovyan jovyan  488 Mar 19 01:51 X_test.csv\n",
      "-rw-r--r--  1 jovyan jovyan 1912 Mar 19 01:51 X_train.csv\n",
      "-rw-r--r--  1 jovyan jovyan   62 Mar 19 01:51 y_test.csv\n",
      "-rw-r--r--  1 jovyan jovyan  240 Mar 19 01:51 y_train.csv\n",
      "\n"
     ]
    }
   ],
   "source": [
    "import pandas as pd\n",
    "import numpy as np\n",
    "\n",
    "\n",
    "from sklearn import datasets\n",
    "import os\n",
    "MM_HOME  = '/mm/project/'\n",
    "MM_PATH = '/mm/step/'\n",
    "DATA_PATH = MM_HOME + 'data_in/'\n",
    "\n",
    "\n",
    "# Other datasets in sklearn have similar \"load\" functions\n",
    "iris = datasets.load_iris()\n",
    "\n",
    "# Leave one value out from training set - that will be test later on\n",
    "X_train, y_train = iris.data[:-1,:], iris.target[:-1]\n",
    "\n",
    "X_train_pdf = pd.DataFrame(X_train)\n",
    "y_train_pdf = pd.DataFrame(y_train)\n",
    "\n",
    "from sklearn.model_selection import train_test_split\n",
    "X_train, X_test, y_train, y_test = train_test_split(X_train_pdf,y_train_pdf, test_size = 0.2)\n",
    "\n",
    "print(\"train dataset dimension : %s\" % (X_train.shape,))\n",
    "print(\"test dataset dimension : %s\" % (X_test.shape,))\n",
    "print(\"train target dimension : %s\" % (y_train.shape,))\n",
    "print(\"test target dimension : %s\" % (y_test.shape,))\n",
    "\n",
    "#os.chmod(DATA_PATH, 0o777)\n",
    "print(os.system('whoami'))\n",
    "import getpass\n",
    "print(getpass.getuser())\n",
    "import subprocess\n",
    "print(subprocess.check_output('whoami'))\n",
    "a = subprocess.check_output(['ls','-al','/mm/project/data_in'])\n",
    "print(a.decode('utf-8'))\n",
    "\n",
    "\n",
    "X_train.to_csv(DATA_PATH + 'X_train.csv', index=False)\n",
    "X_test.to_csv(DATA_PATH + 'X_test.csv', index=False)\n",
    "y_train.to_csv(DATA_PATH + 'y_train.csv', index=False)\n",
    "y_test.to_csv(DATA_PATH + 'y_test.csv' , index=False)\n",
    "\n",
    "#original data\n",
    "if len(X_train) < 120:\n",
    "    target = 'LOGISTIC'\n",
    "else: # Augmented\n",
    "    target = 'ARD'\n",
    "\n",
    "import pandas as pd\n",
    "df = pd.DataFrame([['dynamic-train', 'train', target,'1' ]],\n",
    "                  columns = ['workflow', 'step', 'target', 'args'])\n",
    "\n",
    "df.to_csv(MM_PATH+'/parameter.csv',index= False)"
   ]
  },
  {
   "cell_type": "code",
   "execution_count": 2,
   "metadata": {},
   "outputs": [
    {
     "data": {
      "text/html": [
       "<div>\n",
       "<style scoped>\n",
       "    .dataframe tbody tr th:only-of-type {\n",
       "        vertical-align: middle;\n",
       "    }\n",
       "\n",
       "    .dataframe tbody tr th {\n",
       "        vertical-align: top;\n",
       "    }\n",
       "\n",
       "    .dataframe thead th {\n",
       "        text-align: right;\n",
       "    }\n",
       "</style>\n",
       "<table border=\"1\" class=\"dataframe\">\n",
       "  <thead>\n",
       "    <tr style=\"text-align: right;\">\n",
       "      <th></th>\n",
       "      <th>workflow</th>\n",
       "      <th>step</th>\n",
       "      <th>target</th>\n",
       "      <th>args</th>\n",
       "    </tr>\n",
       "  </thead>\n",
       "  <tbody>\n",
       "    <tr>\n",
       "      <th>0</th>\n",
       "      <td>dynamic-train</td>\n",
       "      <td>train</td>\n",
       "      <td>LOGISTIC</td>\n",
       "      <td>1</td>\n",
       "    </tr>\n",
       "  </tbody>\n",
       "</table>\n",
       "</div>"
      ],
      "text/plain": [
       "        workflow   step    target  args\n",
       "0  dynamic-train  train  LOGISTIC     1"
      ]
     },
     "execution_count": 2,
     "metadata": {},
     "output_type": "execute_result"
    }
   ],
   "source": [
    "pd.read_csv('/mm/step/parameter.csv')"
   ]
  }
 ],
 "metadata": {
  "kernelspec": {
   "display_name": "Python 3",
   "language": "python",
   "name": "python3"
  },
  "language_info": {
   "codemirror_mode": {
    "name": "ipython",
    "version": 3
   },
   "file_extension": ".py",
   "mimetype": "text/x-python",
   "name": "python",
   "nbconvert_exporter": "python",
   "pygments_lexer": "ipython3",
   "version": "3.7.1"
  }
 },
 "nbformat": 4,
 "nbformat_minor": 2
}

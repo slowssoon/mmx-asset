{
 "cells": [
  {
   "cell_type": "code",
   "execution_count": 2,
   "metadata": {},
   "outputs": [],
   "source": [
    "import os\n",
    "os.environ['target'] = 'LOGISTIC'"
   ]
  },
  {
   "cell_type": "code",
   "execution_count": 3,
   "metadata": {},
   "outputs": [
    {
     "name": "stdout",
     "output_type": "stream",
     "text": [
      "--------log--------\n",
      "LOGISTIC\n",
      "accuracy score :0.933333\n",
      "model saved, path :/mm/project/model/\n"
     ]
    },
    {
     "name": "stderr",
     "output_type": "stream",
     "text": [
      "/opt/conda/lib/python3.7/site-packages/sklearn/linear_model/logistic.py:433: FutureWarning: Default solver will be changed to 'lbfgs' in 0.22. Specify a solver to silence this warning.\n",
      "  FutureWarning)\n",
      "/opt/conda/lib/python3.7/site-packages/sklearn/utils/validation.py:761: DataConversionWarning: A column-vector y was passed when a 1d array was expected. Please change the shape of y to (n_samples, ), for example using ravel().\n",
      "  y = column_or_1d(y, warn=True)\n",
      "/opt/conda/lib/python3.7/site-packages/sklearn/linear_model/logistic.py:460: FutureWarning: Default multi_class will be changed to 'auto' in 0.22. Specify the multi_class option to silence this warning.\n",
      "  \"this warning.\", FutureWarning)\n"
     ]
    }
   ],
   "source": [
    "from sklearn.linear_model import LogisticRegression, ARDRegression\n",
    "import pandas as pd\n",
    "import os, sys\n",
    "\n",
    "MM_MODEL = '/mm/project/model/'\n",
    "MM_DATA = '/mm/project/data_in/'\n",
    "target = 'LOGISTIC'\n",
    "\n",
    "if not os.path.exists(MM_MODEL):\n",
    "    os.mkdir(MM_MODEL)\n",
    "\n",
    "X_train = pd.read_csv(MM_DATA + 'X_train.csv')\n",
    "X_test = pd.read_csv(MM_DATA + 'X_test.csv')\n",
    "y_train = pd.read_csv(MM_DATA + 'y_train.csv')\n",
    "y_test = pd.read_csv(MM_DATA + 'y_test.csv')\n",
    "\n",
    "logistic = LogisticRegression()\n",
    "import sklearn.linear_model as lm\n",
    "\n",
    "# dynamic param\n",
    "if not os.environ['target'] == 'default':\n",
    "    target = os.environ['target']\n",
    "\n",
    "# if not len(sys.argv) is 1:\n",
    "#     intercept_param = int(sys.argv[1])\n",
    "# else:\n",
    "#     intercept_param = 1\n",
    "intercept_param = 1\n",
    "\n",
    "print('--------log--------')\n",
    "print(target)\n",
    "\n",
    "if target == 'LOGISTIC':\n",
    "    model = LogisticRegression(intercept_scaling=intercept_param)\n",
    "elif target == 'ARD':\n",
    "    model = ARDRegression()\n",
    "# Train on iris training set\n",
    "# SECOND we give the model some training data\n",
    "model.fit(X_train, y_train)\n",
    "\n",
    "# THIRD we give our model some test data and predict something\n",
    "from sklearn.metrics import accuracy_score\n",
    "\n",
    "y_predict = model.predict(X_test)\n",
    "\n",
    "acc_score = accuracy_score(y_test, y_predict)\n",
    "\n",
    "print(\"accuracy score :%f\" % acc_score)\n",
    "import pickle\n",
    "\n",
    "# save model\n",
    "with open(MM_MODEL + 'iris_logistic.pkl', 'wb') as f:\n",
    "    pickle.dump(model, f)\n",
    "\n",
    "print(\"model saved, path :%s\" % MM_MODEL)"
   ]
  },
  {
   "cell_type": "code",
   "execution_count": 4,
   "metadata": {},
   "outputs": [
    {
     "name": "stdout",
     "output_type": "stream",
     "text": [
      "iris_DecisionTreeClassifier.pkl  iris_logistic.pkl  logistic_model.pkl\n"
     ]
    }
   ],
   "source": [
    "!ls /mm/project/model/"
   ]
  }
 ],
 "metadata": {
  "kernelspec": {
   "display_name": "Python 3",
   "language": "python",
   "name": "python3"
  },
  "language_info": {
   "codemirror_mode": {
    "name": "ipython",
    "version": 3
   },
   "file_extension": ".py",
   "mimetype": "text/x-python",
   "name": "python",
   "nbconvert_exporter": "python",
   "pygments_lexer": "ipython3",
   "version": "3.7.1"
  }
 },
 "nbformat": 4,
 "nbformat_minor": 2
}
